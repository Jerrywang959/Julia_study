{
  "cells": [
    {
      "cell_type": "code",
      "source": [
        "1+1"
      ],
      "outputs": [],
      "execution_count": null,
      "metadata": {
        "collapsed": false,
        "jupyter": {
          "source_hidden": false,
          "outputs_hidden": false
        },
        "nteract": {
          "transient": {
            "deleting": false
          }
        }
      }
    },
    {
      "cell_type": "code",
      "source": [
        "1+1"
      ],
      "outputs": [],
      "execution_count": null,
      "metadata": {
        "collapsed": false,
        "jupyter": {
          "source_hidden": false,
          "outputs_hidden": false
        },
        "nteract": {
          "transient": {
            "deleting": false
          }
        }
      }
    },
    {
      "cell_type": "code",
      "source": [],
      "outputs": [],
      "execution_count": null,
      "metadata": {
        "collapsed": false,
        "jupyter": {
          "source_hidden": false,
          "outputs_hidden": false
        },
        "nteract": {
          "transient": {
            "deleting": false
          }
        }
      }
    }
  ],
  "metadata": {
    "kernel_info": {
      "name": "julia-1.3"
    },
    "language_info": {
      "file_extension": ".jl",
      "name": "julia",
      "mimetype": "application/julia",
      "version": "1.3.1"
    },
    "kernelspec": {
      "argv": [
        "F:\\Julia-1.3.1\\bin\\julia.exe",
        "-i",
        "--startup-file=yes",
        "--color=yes",
        "--project=@.",
        "F:\\Julia_config\\packages\\IJulia\\F1GUo\\src\\kernel.jl",
        "{connection_file}"
      ],
      "display_name": "Julia 1.3.1",
      "env": {},
      "interrupt_mode": "message",
      "language": "julia",
      "name": "julia-1.3"
    },
    "nteract": {
      "version": "0.21.0"
    }
  },
  "nbformat": 4,
  "nbformat_minor": 0
}