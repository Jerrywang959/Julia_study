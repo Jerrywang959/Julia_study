{
  "nbformat": 4,
  "nbformat_minor": 0,
  "metadata": {
    "colab": {
      "name": "bank_loss_viajulia.ipynb（副本）",
      "provenance": [],
      "collapsed_sections": [],
      "include_colab_link": true
    },
    "kernelspec": {
      "name": "julia-1.4",
      "display_name": "Julia 1.4"
    }
  },
  "cells": [
    {
      "cell_type": "markdown",
      "metadata": {
        "id": "view-in-github",
        "colab_type": "text"
      },
      "source": [
        "<a href=\"https://colab.research.google.com/github/Jerrywang959/Julia_study/blob/master/bank_loss_viajulia_ipynb%EF%BC%88%E5%89%AF%E6%9C%AC%EF%BC%89.ipynb\" target=\"_parent\"><img src=\"https://colab.research.google.com/assets/colab-badge.svg\" alt=\"Open In Colab\"/></a>"
      ]
    },
    {
      "cell_type": "markdown",
      "metadata": {
        "id": "SjtUHrAl840b",
        "colab_type": "text"
      },
      "source": [
        "# 安装CUDA和julia-1.4.0"
      ]
    },
    {
      "cell_type": "code",
      "metadata": {
        "id": "oMSuTc3pDlHv",
        "colab_type": "code",
        "outputId": "7115db6c-0491-406f-ae35-4ecaf3357b19",
        "colab": {
          "base_uri": "https://localhost:8080/",
          "height": 1000
        }
      },
      "source": [
        "!curl -sSL \"https://julialang-s3.julialang.org/bin/linux/x64/1.4/julia-1.4.0-linux-x86_64.tar.gz\" -o julia.tar.gz\n",
        "!tar -xzf julia.tar.gz -C /usr --strip-components 1\n",
        "!rm -rf julia.tar.gz*\n",
        "!julia -e 'using Pkg; pkg\" up; add IJulia CuArrays Flux FileIO Colors BenchmarkTools CUDAdrv CUDAnative CUDAapi CSV Random;  precompile\"'"
      ],
      "execution_count": 1,
      "outputs": [
        {
          "output_type": "stream",
          "text": [
            "    Cloning default registries into `~/.julia`\n",
            "    Cloning registry from \"https://github.com/JuliaRegistries/General.git\"\n",
            "\u001b[2K\u001b[?25h      Added registry `General` to `~/.julia/registries/General`\n",
            "   Updating registry at `~/.julia/registries/General`\n",
            "   Updating git-repo `https://github.com/JuliaRegistries/General.git`\n",
            "\u001b[?25l\u001b[2K\u001b[?25h   Updating `~/.julia/environments/v1.4/Project.toml`\n",
            " [no changes]\n",
            "   Updating `~/.julia/environments/v1.4/Manifest.toml`\n",
            " [no changes]\n",
            "  Resolving package versions...\n",
            "  Installed IJulia ─────────────────────── v1.21.1\n",
            "  Installed BenchmarkTools ─────────────── v0.5.0\n",
            "  Installed FileIO ─────────────────────── v1.2.4\n",
            "  Installed Colors ─────────────────────── v0.12.0\n",
            "  Installed CUDAdrv ────────────────────── v6.2.2\n",
            "  Installed Flux ───────────────────────── v0.8.3\n",
            "  Installed CuArrays ───────────────────── v2.0.1\n",
            "  Installed CUDAnative ─────────────────── v3.0.3\n",
            "  Installed DataAPI ────────────────────── v1.1.0\n",
            "  Installed Missings ───────────────────── v0.4.3\n",
            "  Installed Reexport ───────────────────── v0.2.0\n",
            "  Installed NaNMath ────────────────────── v0.3.3\n",
            "  Installed Tables ─────────────────────── v1.0.3\n",
            "  Installed CUDAapi ────────────────────── v4.0.0\n",
            "  Installed ZMQ ────────────────────────── v1.2.0\n",
            "  Installed PooledArrays ───────────────── v0.5.3\n",
            "  Installed CEnum ──────────────────────── v0.2.0\n",
            "  Installed CodeTracking ───────────────── v0.5.8\n",
            "  Installed IteratorInterfaceExtensions ── v1.0.0\n",
            "  Installed TranscodingStreams ─────────── v0.9.5\n",
            "  Installed SpecialFunctions ───────────── v0.10.0\n",
            "  Installed Requires ───────────────────── v1.0.1\n",
            "  Installed Parsers ────────────────────── v1.0.1\n",
            "  Installed FixedPointNumbers ──────────── v0.8.0\n",
            "  Installed NNlib ──────────────────────── v0.6.6\n",
            "  Installed OrderedCollections ─────────── v1.1.0\n",
            "  Installed WeakRefStrings ─────────────── v0.6.2\n",
            "  Installed SortingAlgorithms ──────────── v0.3.1\n",
            "  Installed DataValueInterfaces ────────── v1.0.0\n",
            "  Installed Conda ──────────────────────── v1.4.1\n",
            "  Installed LLVM ───────────────────────── v1.3.4\n",
            "  Installed VersionParsing ─────────────── v1.2.0\n",
            "  Installed Adapt ──────────────────────── v1.0.1\n",
            "  Installed ColorTypes ─────────────────── v0.10.0\n",
            "  Installed Tracker ────────────────────── v0.2.6\n",
            "  Installed DiffRules ──────────────────── v1.0.1\n",
            "  Installed AbstractTrees ──────────────── v0.3.2\n",
            "  Installed CSV ────────────────────────── v0.6.0\n",
            "  Installed GPUArrays ──────────────────── v3.1.0\n",
            "  Installed InvertedIndices ────────────── v1.0.0\n",
            "  Installed ExprTools ──────────────────── v0.1.0\n",
            "  Installed ZeroMQ_jll ─────────────────── v4.3.2+1\n",
            "  Installed CodecZlib ──────────────────── v0.7.0\n",
            "  Installed MacroTools ─────────────────── v0.5.5\n",
            "  Installed ForwardDiff ────────────────── v0.10.10\n",
            "  Installed TimerOutputs ───────────────── v0.5.3\n",
            "  Installed Juno ───────────────────────── v0.8.1\n",
            "  Installed DiffResults ────────────────── v1.0.2\n",
            "  Installed Compat ─────────────────────── v3.8.0\n",
            "  Installed DataFrames ─────────────────── v0.20.2\n",
            "  Installed Media ──────────────────────── v0.5.0\n",
            "  Installed ZipFile ────────────────────── v0.9.1\n",
            "  Installed FilePathsBase ──────────────── v0.7.0\n",
            "  Installed Zlib_jll ───────────────────── v1.2.11+9\n",
            "  Installed MbedTLS ────────────────────── v0.7.0\n",
            "  Installed StatsBase ──────────────────── v0.33.0\n",
            "  Installed CommonSubexpressions ───────── v0.2.0\n",
            "  Installed SoftGlobalScope ────────────── v1.0.10\n",
            "  Installed BinaryProvider ─────────────── v0.5.8\n",
            "  Installed CompilerSupportLibraries_jll ─ v0.3.3+0\n",
            "  Installed StaticArrays ───────────────── v0.12.1\n",
            "  Installed JSON ───────────────────────── v0.21.0\n",
            "  Installed DataStructures ─────────────── v0.17.11\n",
            "  Installed CategoricalArrays ──────────── v0.7.7\n",
            "  Installed AbstractFFTs ───────────────── v0.5.0\n",
            "  Installed OpenSpecFun_jll ────────────── v0.5.3+3\n",
            "  Installed Cthulhu ────────────────────── v1.0.1\n",
            "  Installed TableTraits ────────────────── v1.0.0\n",
            "Downloading artifact: ZeroMQ\n",
            "######################################################################## 100.0%\n",
            "\u001b[1A\u001b[2K\u001b[?25hDownloading artifact: Zlib\n",
            "######################################################################## 100.0%\n",
            "\u001b[1A\u001b[2K\u001b[?25hDownloading artifact: CompilerSupportLibraries\n",
            "######################################################################## 100.0%\n",
            "\u001b[1A\u001b[2K\u001b[?25hDownloading artifact: OpenSpecFun\n",
            "######################################################################## 100.0%\n",
            "\u001b[1A\u001b[2K\u001b[?25h   Updating `~/.julia/environments/v1.4/Project.toml`\n",
            "  [6e4b80f9] + BenchmarkTools v0.5.0\n",
            "  [336ed68f] + CSV v0.6.0\n",
            "  [3895d2a7] + CUDAapi v4.0.0\n",
            "  [c5f51814] + CUDAdrv v6.2.2\n",
            "  [be33ccc6] + CUDAnative v3.0.3\n",
            "  [5ae59095] + Colors v0.12.0\n",
            "  [3a865a2d] + CuArrays v2.0.1\n",
            "  [5789e2e9] + FileIO v1.2.4\n",
            "  [587475ba] + Flux v0.8.3\n",
            "  [7073ff75] + IJulia v1.21.1\n",
            "  [9a3f8284] + Random \n",
            "   Updating `~/.julia/environments/v1.4/Manifest.toml`\n",
            "  [621f4979] + AbstractFFTs v0.5.0\n",
            "  [1520ce14] + AbstractTrees v0.3.2\n",
            "  [79e6a3ab] + Adapt v1.0.1\n",
            "  [6e4b80f9] + BenchmarkTools v0.5.0\n",
            "  [b99e7846] + BinaryProvider v0.5.8\n",
            "  [fa961155] + CEnum v0.2.0\n",
            "  [336ed68f] + CSV v0.6.0\n",
            "  [3895d2a7] + CUDAapi v4.0.0\n",
            "  [c5f51814] + CUDAdrv v6.2.2\n",
            "  [be33ccc6] + CUDAnative v3.0.3\n",
            "  [324d7699] + CategoricalArrays v0.7.7\n",
            "  [da1fd8a2] + CodeTracking v0.5.8\n",
            "  [944b1d66] + CodecZlib v0.7.0\n",
            "  [3da002f7] + ColorTypes v0.10.0\n",
            "  [5ae59095] + Colors v0.12.0\n",
            "  [bbf7d656] + CommonSubexpressions v0.2.0\n",
            "  [34da2185] + Compat v3.8.0\n",
            "  [e66e0078] + CompilerSupportLibraries_jll v0.3.3+0\n",
            "  [8f4d0f93] + Conda v1.4.1\n",
            "  [f68482b8] + Cthulhu v1.0.1\n",
            "  [3a865a2d] + CuArrays v2.0.1\n",
            "  [9a962f9c] + DataAPI v1.1.0\n",
            "  [a93c6f00] + DataFrames v0.20.2\n",
            "  [864edb3b] + DataStructures v0.17.11\n",
            "  [e2d170a0] + DataValueInterfaces v1.0.0\n",
            "  [163ba53b] + DiffResults v1.0.2\n",
            "  [b552c78f] + DiffRules v1.0.1\n",
            "  [e2ba6199] + ExprTools v0.1.0\n",
            "  [5789e2e9] + FileIO v1.2.4\n",
            "  [48062228] + FilePathsBase v0.7.0\n",
            "  [53c48c17] + FixedPointNumbers v0.8.0\n",
            "  [587475ba] + Flux v0.8.3\n",
            "  [f6369f11] + ForwardDiff v0.10.10\n",
            "  [0c68f7d7] + GPUArrays v3.1.0\n",
            "  [7073ff75] + IJulia v1.21.1\n",
            "  [41ab1584] + InvertedIndices v1.0.0\n",
            "  [82899510] + IteratorInterfaceExtensions v1.0.0\n",
            "  [682c06a0] + JSON v0.21.0\n",
            "  [e5e0dc1b] + Juno v0.8.1\n",
            "  [929cbde3] + LLVM v1.3.4\n",
            "  [1914dd2f] + MacroTools v0.5.5\n",
            "  [739be429] + MbedTLS v0.7.0\n",
            "  [e89f7d12] + Media v0.5.0\n",
            "  [e1d29d7a] + Missings v0.4.3\n",
            "  [872c559c] + NNlib v0.6.6\n",
            "  [77ba4419] + NaNMath v0.3.3\n",
            "  [efe28fd5] + OpenSpecFun_jll v0.5.3+3\n",
            "  [bac558e1] + OrderedCollections v1.1.0\n",
            "  [69de0a69] + Parsers v1.0.1\n",
            "  [2dfb63ee] + PooledArrays v0.5.3\n",
            "  [189a3867] + Reexport v0.2.0\n",
            "  [ae029012] + Requires v1.0.1\n",
            "  [b85f4697] + SoftGlobalScope v1.0.10\n",
            "  [a2af1166] + SortingAlgorithms v0.3.1\n",
            "  [276daf66] + SpecialFunctions v0.10.0\n",
            "  [90137ffa] + StaticArrays v0.12.1\n",
            "  [2913bbd2] + StatsBase v0.33.0\n",
            "  [3783bdb8] + TableTraits v1.0.0\n",
            "  [bd369af6] + Tables v1.0.3\n",
            "  [a759f4b9] + TimerOutputs v0.5.3\n",
            "  [9f7883ad] + Tracker v0.2.6\n",
            "  [3bb67fe8] + TranscodingStreams v0.9.5\n",
            "  [81def892] + VersionParsing v1.2.0\n",
            "  [ea10d353] + WeakRefStrings v0.6.2\n",
            "  [c2297ded] + ZMQ v1.2.0\n",
            "  [8f1865be] + ZeroMQ_jll v4.3.2+1\n",
            "  [a5390f91] + ZipFile v0.9.1\n",
            "  [83775a58] + Zlib_jll v1.2.11+9\n",
            "  [2a0f44e3] + Base64 \n",
            "  [ade2ca70] + Dates \n",
            "  [8bb1440f] + DelimitedFiles \n",
            "  [8ba89e20] + Distributed \n",
            "  [7b1f6079] + FileWatching \n",
            "  [9fa8497b] + Future \n",
            "  [b77e0a4c] + InteractiveUtils \n",
            "  [76f85450] + LibGit2 \n",
            "  [8f399da3] + Libdl \n",
            "  [37e2e46d] + LinearAlgebra \n",
            "  [56ddb016] + Logging \n",
            "  [d6f4376e] + Markdown \n",
            "  [a63ad114] + Mmap \n",
            "  [44cfe95a] + Pkg \n",
            "  [de0858da] + Printf \n",
            "  [9abbd945] + Profile \n",
            "  [3fa0cd96] + REPL \n",
            "  [9a3f8284] + Random \n",
            "  [ea8e919c] + SHA \n",
            "  [9e88b42a] + Serialization \n",
            "  [1a1011a3] + SharedArrays \n",
            "  [6462fe0b] + Sockets \n",
            "  [2f01184e] + SparseArrays \n",
            "  [10745b16] + Statistics \n",
            "  [8dfed614] + Test \n",
            "  [cf7118a7] + UUIDs \n",
            "  [4ec0a83e] + Unicode \n",
            "   Building Conda ──→ `~/.julia/packages/Conda/3rPhK/deps/build.log`\n",
            "   Building MbedTLS → `~/.julia/packages/MbedTLS/a1JFn/deps/build.log`\n",
            "   Building IJulia ─→ `~/.julia/packages/IJulia/yLI42/deps/build.log`\n",
            "   Building NNlib ──→ `~/.julia/packages/NNlib/FAI3o/deps/build.log`\n",
            "Precompiling project...\n"
          ],
          "name": "stdout"
        }
      ]
    },
    {
      "cell_type": "markdown",
      "metadata": {
        "id": "AXRpA6sC_Izd",
        "colab_type": "text"
      },
      "source": [
        "# 装包专栏\n"
      ]
    },
    {
      "cell_type": "code",
      "metadata": {
        "id": "_8TQDaof_M58",
        "colab_type": "code",
        "outputId": "4a47354f-aa11-46e6-f47d-2dd3511a3e0d",
        "colab": {
          "base_uri": "https://localhost:8080/",
          "height": 102
        }
      },
      "source": [
        "] add Statistics"
      ],
      "execution_count": 0,
      "outputs": [
        {
          "output_type": "stream",
          "text": [
            "\u001b[32m\u001b[1m  Resolving\u001b[22m\u001b[39m package versions...\n",
            "\u001b[32m\u001b[1m   Updating\u001b[22m\u001b[39m `~/.julia/environments/v1.4/Project.toml`\n",
            " \u001b[90m [10745b16]\u001b[39m\u001b[92m + Statistics \u001b[39m\n",
            "\u001b[32m\u001b[1m   Updating\u001b[22m\u001b[39m `~/.julia/environments/v1.4/Manifest.toml`\n",
            "\u001b[90m [no changes]\u001b[39m\n"
          ],
          "name": "stderr"
        }
      ]
    },
    {
      "cell_type": "markdown",
      "metadata": {
        "id": "wYSvyMDq9Foz",
        "colab_type": "text"
      },
      "source": [
        "# 正式的julia运行"
      ]
    },
    {
      "cell_type": "markdown",
      "metadata": {
        "id": "kYW5qiSRYtc0",
        "colab_type": "text"
      },
      "source": [
        "加载包"
      ]
    },
    {
      "cell_type": "code",
      "metadata": {
        "id": "8XXmZzcgXN4r",
        "colab_type": "code",
        "outputId": "e7cdc856-f249-4f28-dab1-98991fcb9006",
        "colab": {
          "base_uri": "https://localhost:8080/",
          "height": 51
        }
      },
      "source": [
        "using Flux, Statistics,CSV,DataFrames,Random, CUDAapi,CuArrays"
      ],
      "execution_count": 0,
      "outputs": [
        {
          "output_type": "stream",
          "text": [
            "┌ Info: Precompiling CSV [336ed68f-0bac-5ca0-87d4-7b16caf5d00b]\n",
            "└ @ Base loading.jl:1260\n"
          ],
          "name": "stderr"
        }
      ]
    },
    {
      "cell_type": "markdown",
      "metadata": {
        "id": "mJbGMAvQWqmJ",
        "colab_type": "text"
      },
      "source": [
        "数据读取和预处理"
      ]
    },
    {
      "cell_type": "code",
      "metadata": {
        "id": "1P9t_d0-6bsK",
        "colab_type": "code",
        "outputId": "89520bd0-462b-4af4-ab2b-1ddacda18e8e",
        "colab": {
          "base_uri": "https://localhost:8080/",
          "height": 68
        }
      },
      "source": [
        "train_raw=DataFrame(CSV.read(\"./select-data.csv\"))\n",
        "test_raw=DataFrame(CSV.read(\"./scalar-test.csv\"))\n",
        "\n",
        "#打乱数据\n",
        "rnd=Random.shuffle(collect(1:length(train_raw[!,1])))\n",
        "train_raw=train_raw[rnd,:]\n",
        "rnd=Random.shuffle(collect(1:length(test_raw[!,1])))\n",
        "test_raw=test_raw[rnd,:]\n",
        "\n",
        "#数据分类\n",
        "train=Array(train_raw[!,2:11])'  |> gpu\n",
        "target=Array(train_raw[!,12])\n",
        "test=Array(test_raw[!,2:11])  |> gpu\n",
        "test_target=Array(test_raw[!,12]);\n",
        "\n",
        "\n",
        "#One-Hot编码\n",
        "target=Flux.onehotbatch(target,0:1)     |> gpu\n",
        "\n",
        "test_target=Flux.onehotbatch(test_target,0:1)  "
      ],
      "execution_count": 0,
      "outputs": [
        {
          "output_type": "execute_result",
          "data": {
            "text/plain": [
              "2×1000 Flux.OneHotMatrix{Array{Flux.OneHotVector,1}}:\n",
              " 1  1  1  1  1  1  1  1  0  1  1  1  1  …  1  1  0  1  1  1  0  0  0  0  1  1\n",
              " 0  0  0  0  0  0  0  0  1  0  0  0  0     0  0  1  0  0  0  1  1  1  1  0  0"
            ]
          },
          "metadata": {
            "tags": []
          },
          "execution_count": 81
        }
      ]
    },
    {
      "cell_type": "markdown",
      "metadata": {
        "id": "qczUpJ8ciOMY",
        "colab_type": "text"
      },
      "source": [
        "定义网络结构"
      ]
    },
    {
      "cell_type": "code",
      "metadata": {
        "id": "zF-8IiNZgsSg",
        "colab_type": "code",
        "outputId": "4c87848c-aac5-4987-eb1b-d730f639aed5",
        "colab": {
          "base_uri": "https://localhost:8080/",
          "height": 34
        }
      },
      "source": [
        "m = Chain(\n",
        "  Dense(10, 256, relu),\n",
        "  Dense(256, 256,relu),\n",
        "  Dense(256, 2),\n",
        "  softmax)    |> gpu"
      ],
      "execution_count": 0,
      "outputs": [
        {
          "output_type": "execute_result",
          "data": {
            "text/plain": [
              "Chain(Dense(10, 256, relu), Dense(256, 256, relu), Dense(256, 2), softmax)"
            ]
          },
          "metadata": {
            "tags": []
          },
          "execution_count": 87
        }
      ]
    },
    {
      "cell_type": "markdown",
      "metadata": {
        "id": "sMYTJU_vi03c",
        "colab_type": "text"
      },
      "source": [
        "定义交叉熵"
      ]
    },
    {
      "cell_type": "code",
      "metadata": {
        "id": "CE7pCPwSlg5z",
        "colab_type": "code",
        "outputId": "dc03852f-8564-44c1-b911-a6a4f61d1fa4",
        "colab": {
          "base_uri": "https://localhost:8080/",
          "height": 34
        }
      },
      "source": [
        "loss(x, y) = crossentropy(m(x), y)"
      ],
      "execution_count": 0,
      "outputs": [
        {
          "output_type": "execute_result",
          "data": {
            "text/plain": [
              "loss (generic function with 1 method)"
            ]
          },
          "metadata": {
            "tags": []
          },
          "execution_count": 83
        }
      ]
    },
    {
      "cell_type": "markdown",
      "metadata": {
        "id": "ISXGFiddmqRP",
        "colab_type": "text"
      },
      "source": [
        "定义损失"
      ]
    },
    {
      "cell_type": "code",
      "metadata": {
        "id": "ZGlWRs9kmpls",
        "colab_type": "code",
        "outputId": "a3501153-35e4-4936-bf8d-e1f4c41f0fa5",
        "colab": {
          "base_uri": "https://localhost:8080/",
          "height": 34
        }
      },
      "source": [
        "accuracy(x, y) = mean(Flux.onecold(cpu(m(x))) .== Flux.onecold(cpu(y)))"
      ],
      "execution_count": 0,
      "outputs": [
        {
          "output_type": "execute_result",
          "data": {
            "text/plain": [
              "accuracy (generic function with 1 method)"
            ]
          },
          "metadata": {
            "tags": []
          },
          "execution_count": 84
        }
      ]
    },
    {
      "cell_type": "markdown",
      "metadata": {
        "id": "XIMGsXr3m_ah",
        "colab_type": "text"
      },
      "source": [
        ""
      ]
    },
    {
      "cell_type": "code",
      "metadata": {
        "id": "6ay2fqI-m_mb",
        "colab_type": "code",
        "outputId": "f7114940-acbb-47ac-9af0-84db32a07b60",
        "colab": {
          "base_uri": "https://localhost:8080/",
          "height": 68
        }
      },
      "source": [
        "dataset = Iterators.repeated((train, target), 200)\n",
        "evalcb = () -> @show(loss(train, target))\n",
        "opt = ADAM()\n",
        "Flux.train!(loss, params(m), dataset, opt, cb = Flux.throttle(evalcb, 10))\n",
        "@show accuracy(train, target)"
      ],
      "execution_count": 0,
      "outputs": [
        {
          "output_type": "stream",
          "text": [
            "loss(train, target) = 0.3164389f0\n",
            "accuracy(train, target) = 0.8753221254141612\n"
          ],
          "name": "stdout"
        },
        {
          "output_type": "execute_result",
          "data": {
            "text/plain": [
              "0.8753221254141612"
            ]
          },
          "metadata": {
            "tags": []
          },
          "execution_count": 108
        }
      ]
    },
    {
      "cell_type": "code",
      "metadata": {
        "id": "UBkgaN-Vzyg3",
        "colab_type": "code",
        "outputId": "2b66419c-a468-49cc-ff86-cb538dfe18a1",
        "colab": {
          "base_uri": "https://localhost:8080/",
          "height": 236
        }
      },
      "source": [
        ""
      ],
      "execution_count": 0,
      "outputs": [
        {
          "output_type": "error",
          "ename": "MethodError",
          "evalue": "ignored",
          "traceback": [
            "MethodError: no method matching Array(::Zygote.Params)\nClosest candidates are:\n  Array(!Matched::LinearAlgebra.SymTridiagonal) at /buildworker/worker/package_linux64/build/usr/share/julia/stdlib/v1.4/LinearAlgebra/src/tridiag.jl:111\n  Array(!Matched::LinearAlgebra.Tridiagonal) at /buildworker/worker/package_linux64/build/usr/share/julia/stdlib/v1.4/LinearAlgebra/src/tridiag.jl:528\n  Array(!Matched::LinearAlgebra.AbstractTriangular) at /buildworker/worker/package_linux64/build/usr/share/julia/stdlib/v1.4/LinearAlgebra/src/triangular.jl:162\n  ...",
            "",
            "Stacktrace:",
            " [1] top-level scope at In[75]:1"
          ]
        }
      ]
    },
    {
      "cell_type": "markdown",
      "metadata": {
        "id": "NaovStwSmzO2",
        "colab_type": "text"
      },
      "source": [
        "优化方式"
      ]
    },
    {
      "cell_type": "code",
      "metadata": {
        "id": "EqxDzFKZ72s8",
        "colab_type": "code",
        "outputId": "06fea013-5bec-4a5c-da6a-6d5ea1bf9efe",
        "colab": {
          "base_uri": "https://localhost:8080/",
          "height": 202
        }
      },
      "source": [
        ""
      ],
      "execution_count": 0,
      "outputs": [
        {
          "output_type": "error",
          "ename": "MethodError",
          "evalue": "ignored",
          "traceback": [
            "MethodError: no method matching randperm(::LinearAlgebra.Adjoint{Int64,Array{Int64,2}})\nClosest candidates are:\n  randperm(!Matched::AbstractRNG, !Matched::T) where T<:Integer at /buildworker/worker/package_linux64/build/usr/share/julia/stdlib/v1.4/Random/src/misc.jl:279\n  randperm(!Matched::Integer) at /buildworker/worker/package_linux64/build/usr/share/julia/stdlib/v1.4/Random/src/misc.jl:280",
            "",
            "Stacktrace:",
            " [1] top-level scope at In[40]:1"
          ]
        }
      ]
    },
    {
      "cell_type": "code",
      "metadata": {
        "id": "l7RS3VFG7_JI",
        "colab_type": "code",
        "outputId": "965dfbb9-e541-4cde-badc-a7561bb9e8d9",
        "colab": {
          "base_uri": "https://localhost:8080/",
          "height": 289
        }
      },
      "source": [
        "using Flux, Flux.Data.MNIST, Statistics\n",
        "using Flux: onehotbatch, onecold, crossentropy, throttle\n",
        "using Base.Iterators: repeated\n",
        "using CUDAapi\n",
        "if has_cuda()\n",
        "    @info \"CUDA is on\"\n",
        "    import CuArrays\n",
        "    CuArrays.allowscalar(false)\n",
        "end\n",
        "\n",
        "\n",
        "# Classify MNIST digits with a simple multi-layer-perceptron\n",
        "\n",
        "imgs = MNIST.images()\n",
        "# Stack images into one large batch\n",
        "X = hcat(float.(reshape.(imgs, :))...) |> gpu\n",
        "\n",
        "labels = MNIST.labels()\n",
        "# One-hot-encode the labels\n",
        "Y = onehotbatch(labels, 0:9) |> gpu\n",
        "\n",
        "m = Chain(\n",
        "  Dense(28^2, 32, relu),\n",
        "  Dense(32, 10),\n",
        "  softmax) |> gpu\n",
        "\n",
        "loss(x, y) = crossentropy(m(x), y)\n",
        "\n",
        "accuracy(x, y) = mean(onecold(cpu(m(x))) .== onecold(cpu(y)))\n",
        "\n",
        "dataset = repeated((X, Y), 200)\n",
        "evalcb = () -> @show(loss(X, Y))\n",
        "opt = ADAM()\n",
        "\n",
        "Flux.train!(loss, params(m), dataset, opt, cb = throttle(evalcb, 10))\n",
        "\n",
        "@show accuracy(X, Y)\n",
        "\n",
        "# Test set accuracy\n",
        "tX = hcat(float.(reshape.(MNIST.images(:test), :))...) |> gpu\n",
        "tY = onehotbatch(MNIST.labels(:test), 0:9) |> gpu\n",
        "\n",
        "@show accuracy(tX, tY)"
      ],
      "execution_count": 0,
      "outputs": [
        {
          "output_type": "stream",
          "text": [
            "┌ Info: CUDA is on\n",
            "└ @ Main In[4]:6\n",
            "┌ Info: Downloading MNIST dataset\n",
            "└ @ Flux.Data.MNIST /root/.julia/packages/Flux/oX9Pi/src/data/mnist.jl:24\n",
            "┌ Info: Downloading MNIST dataset\n",
            "└ @ Flux.Data.MNIST /root/.julia/packages/Flux/oX9Pi/src/data/mnist.jl:24\n",
            "┌ Info: Downloading MNIST dataset\n",
            "└ @ Flux.Data.MNIST /root/.julia/packages/Flux/oX9Pi/src/data/mnist.jl:24\n",
            "┌ Info: Downloading MNIST dataset\n",
            "└ @ Flux.Data.MNIST /root/.julia/packages/Flux/oX9Pi/src/data/mnist.jl:24\n",
            "┌ Info: Building the CUDAnative run-time library for your sm_60 device, this might take a while...\n",
            "└ @ CUDAnative /root/.julia/packages/CUDAnative/hfulr/src/compiler/rtlib.jl:188\n"
          ],
          "name": "stderr"
        },
        {
          "output_type": "stream",
          "text": [
            "loss(X, Y) = 2.3505874f0\n",
            "accuracy(X, Y) = 0.9245\n",
            "accuracy(tX, tY) = 0.9258\n"
          ],
          "name": "stdout"
        },
        {
          "output_type": "execute_result",
          "data": {
            "text/plain": [
              "0.9258"
            ]
          },
          "metadata": {
            "tags": []
          },
          "execution_count": 4
        }
      ]
    },
    {
      "cell_type": "code",
      "metadata": {
        "id": "y71oPTPEegRe",
        "colab_type": "code",
        "colab": {}
      },
      "source": [
        ""
      ],
      "execution_count": 0,
      "outputs": []
    },
    {
      "cell_type": "code",
      "metadata": {
        "id": "LCEtHlJSsGLz",
        "colab_type": "code",
        "colab": {}
      },
      "source": [
        ""
      ],
      "execution_count": 0,
      "outputs": []
    }
  ]
}